{
  "nbformat": 4,
  "nbformat_minor": 0,
  "metadata": {
    "colab": {
      "name": "Lab7_Beglaryan.ipynb",
      "provenance": [],
      "collapsed_sections": []
    },
    "kernelspec": {
      "name": "python3",
      "display_name": "Python 3"
    },
    "language_info": {
      "name": "python"
    }
  },
  "cells": [
    {
      "cell_type": "code",
      "execution_count": null,
      "metadata": {
        "id": "Mwxos9Yj4wrQ"
      },
      "outputs": [],
      "source": [
        "import numpy as np\n",
        "PI2 = 2 * np.pi"
      ]
    },
    {
      "cell_type": "code",
      "source": [
        "ys = [-0.5, 0.1, 0.7, -0.1]\n",
        "hs = np.fft.fft(ys)\n",
        "print(hs)"
      ],
      "metadata": {
        "colab": {
          "base_uri": "https://localhost:8080/"
        },
        "id": "OK1WoU2S5ZML",
        "outputId": "9253f8ea-6e77-4251-e675-2cd5872af2fd"
      },
      "execution_count": null,
      "outputs": [
        {
          "output_type": "stream",
          "name": "stdout",
          "text": [
            "[ 0.2+0.j  -1.2-0.2j  0.2+0.j  -1.2+0.2j]\n"
          ]
        }
      ]
    },
    {
      "cell_type": "code",
      "source": [
        "def dft(ys):\n",
        "    N = len(ys)\n",
        "    ts = np.arange(N) / N\n",
        "    freqs = np.arange(N)\n",
        "    args = np.outer(ts, freqs)\n",
        "    M = np.exp(1j * PI2 * args)\n",
        "    amps = M.conj().transpose().dot(ys)\n",
        "    return amps"
      ],
      "metadata": {
        "id": "T352oXGB5boT"
      },
      "execution_count": null,
      "outputs": []
    },
    {
      "cell_type": "code",
      "source": [
        "hs2 = dft(ys)\n",
        "np.sum(np.abs(hs - hs2))"
      ],
      "metadata": {
        "colab": {
          "base_uri": "https://localhost:8080/"
        },
        "id": "AxrfhFu65eZK",
        "outputId": "09d38c68-8f0f-44fb-f9ec-907bc359a198"
      },
      "execution_count": null,
      "outputs": [
        {
          "output_type": "execute_result",
          "data": {
            "text/plain": [
              "5.864775846765962e-16"
            ]
          },
          "metadata": {},
          "execution_count": 5
        }
      ]
    },
    {
      "cell_type": "code",
      "source": [
        "def fft_norec(ys):\n",
        "    N = len(ys)\n",
        "    He = np.fft.fft(ys[::2])\n",
        "    Ho = np.fft.fft(ys[1::2])\n",
        "    \n",
        "    ns = np.arange(N)\n",
        "    W = np.exp(-1j * PI2 * ns / N)\n",
        "    \n",
        "    return np.tile(He, 2) + W * np.tile(Ho, 2)"
      ],
      "metadata": {
        "id": "lEG_CR4a5fPq"
      },
      "execution_count": null,
      "outputs": []
    },
    {
      "cell_type": "code",
      "source": [
        "hs3 = fft_norec(ys)\n",
        "np.sum(np.abs(hs - hs3))"
      ],
      "metadata": {
        "colab": {
          "base_uri": "https://localhost:8080/"
        },
        "id": "B098M4cr5idr",
        "outputId": "95cee6e6-bc89-4f99-a6d5-efa227c19f63"
      },
      "execution_count": null,
      "outputs": [
        {
          "output_type": "execute_result",
          "data": {
            "text/plain": [
              "0.0"
            ]
          },
          "metadata": {},
          "execution_count": 7
        }
      ]
    },
    {
      "cell_type": "code",
      "source": [
        "def fft(ys):\n",
        "    N = len(ys)\n",
        "    if N == 1:\n",
        "        return ys\n",
        "    \n",
        "    He = fft(ys[::2])\n",
        "    Ho = fft(ys[1::2])\n",
        "    \n",
        "    ns = np.arange(N)\n",
        "    W = np.exp(-1j * PI2 * ns / N)\n",
        "    \n",
        "    return np.tile(He, 2) + W * np.tile(Ho, 2)"
      ],
      "metadata": {
        "id": "snXPvLuu5kpg"
      },
      "execution_count": null,
      "outputs": []
    },
    {
      "cell_type": "code",
      "source": [
        "hs4 = fft(ys)\n",
        "np.sum(np.abs(hs - hs4))"
      ],
      "metadata": {
        "colab": {
          "base_uri": "https://localhost:8080/"
        },
        "id": "U7bCFMxf5nuo",
        "outputId": "a3830de6-b33a-4624-c8d4-f41fc000a2b8"
      },
      "execution_count": null,
      "outputs": [
        {
          "output_type": "execute_result",
          "data": {
            "text/plain": [
              "1.6653345369377348e-16"
            ]
          },
          "metadata": {},
          "execution_count": 9
        }
      ]
    },
    {
      "cell_type": "markdown",
      "source": [
        "Эта реализация БПФ требует времени, пропорционального nlogn. Он также занимает место, пропорциональное nlogn , и тратит некоторое время на создание и копирование массивов. Его можно улучшить для запуска «на месте». В этом случае он не требует дополнительного места и тратит меньше времени на накладные расходы."
      ],
      "metadata": {
        "id": "5AsfuyhnSlqW"
      }
    }
  ]
}